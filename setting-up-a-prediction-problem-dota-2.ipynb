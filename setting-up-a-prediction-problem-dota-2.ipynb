{
 "cells": [
  {
   "cell_type": "markdown",
   "metadata": {
    "_cell_guid": "59b8fbff-dc11-841f-fd9c-0f5c800048cf"
   },
   "source": [
    "### Setting up a prediction problem\n",
    "\n",
    "This notebook sets up the problem of predicting the match outcome given the history of each player involved in the match. I go through my thought process as I try to avoid leaks\n",
    "\n"
   ]
  },
  {
   "cell_type": "code",
   "execution_count": 1,
   "metadata": {
    "_cell_guid": "c2e5a179-f97c-9df7-3f00-62b1257f4ea2"
   },
   "outputs": [],
   "source": [
    "import pandas as pd\n",
    "import numpy as np\n",
    "from sklearn import ensemble \n",
    "from sklearn import metrics\n",
    "\n",
    "# this is meant to be a simple example so only matches and players are used\n",
    "matches = pd.read_csv('../input/match.csv', index_col=0)\n",
    "players = pd.read_csv('../input/players.csv')\n",
    "\n",
    "test_labels = pd.read_csv('../input/test_labels.csv', index_col=0)\n",
    "test_players = pd.read_csv('../input/test_player.csv')\n",
    "\n",
    "train_labels = matches['radiant_win'].astype(int)"
   ]
  },
  {
   "cell_type": "markdown",
   "metadata": {
    "_cell_guid": "ac4ffbac-c708-bd22-6cd0-297c5fd59866"
   },
   "source": [
    "### Predicting Match Outcome\n",
    "\n",
    "In this problem we are asking the questions: which team will win? It is important to consider when the question is being asked. Most frequently this is asked before the match starts, but it could also be asked after the match has be running for 10 or 15 minutes. It could be asked before hero selection, and all that is known is the identity of the competitors. It could also be asked after hero selection in which case the hero composition of each team would be something to consider. An additional case to consider would be predicting the outcome based only on the heros involved not accounting for the players identities. \n",
    "\n",
    "The important point is that a time and set of conditions need to be picked before trying to solve the problem. Here we will try to predict the outcome of a match when only the player identities are known, but before hero selection or any gameplay starts.\n",
    "\n",
    "Any information only available after we ask the question is off limits. This means any details at all about events in the match should be excluded as well as any information about future matches."
   ]
  },
  {
   "cell_type": "code",
   "execution_count": 2,
   "metadata": {
    "_cell_guid": "ffe0476b-7ed5-8713-e188-719f558663d8"
   },
   "outputs": [
    {
     "data": {
      "text/html": [
       "<div>\n",
       "<table border=\"1\" class=\"dataframe\">\n",
       "  <thead>\n",
       "    <tr style=\"text-align: right;\">\n",
       "      <th></th>\n",
       "      <th>start_time</th>\n",
       "      <th>duration</th>\n",
       "      <th>tower_status_radiant</th>\n",
       "      <th>tower_status_dire</th>\n",
       "      <th>barracks_status_dire</th>\n",
       "      <th>barracks_status_radiant</th>\n",
       "      <th>first_blood_time</th>\n",
       "      <th>game_mode</th>\n",
       "      <th>radiant_win</th>\n",
       "      <th>negative_votes</th>\n",
       "      <th>positive_votes</th>\n",
       "      <th>cluster</th>\n",
       "    </tr>\n",
       "    <tr>\n",
       "      <th>match_id</th>\n",
       "      <th></th>\n",
       "      <th></th>\n",
       "      <th></th>\n",
       "      <th></th>\n",
       "      <th></th>\n",
       "      <th></th>\n",
       "      <th></th>\n",
       "      <th></th>\n",
       "      <th></th>\n",
       "      <th></th>\n",
       "      <th></th>\n",
       "      <th></th>\n",
       "    </tr>\n",
       "  </thead>\n",
       "  <tbody>\n",
       "    <tr>\n",
       "      <th>0</th>\n",
       "      <td>1446750112</td>\n",
       "      <td>2375</td>\n",
       "      <td>1982</td>\n",
       "      <td>4</td>\n",
       "      <td>3</td>\n",
       "      <td>63</td>\n",
       "      <td>1</td>\n",
       "      <td>22</td>\n",
       "      <td>True</td>\n",
       "      <td>0</td>\n",
       "      <td>1</td>\n",
       "      <td>155</td>\n",
       "    </tr>\n",
       "    <tr>\n",
       "      <th>1</th>\n",
       "      <td>1446753078</td>\n",
       "      <td>2582</td>\n",
       "      <td>0</td>\n",
       "      <td>1846</td>\n",
       "      <td>63</td>\n",
       "      <td>0</td>\n",
       "      <td>221</td>\n",
       "      <td>22</td>\n",
       "      <td>False</td>\n",
       "      <td>0</td>\n",
       "      <td>2</td>\n",
       "      <td>154</td>\n",
       "    </tr>\n",
       "    <tr>\n",
       "      <th>2</th>\n",
       "      <td>1446764586</td>\n",
       "      <td>2716</td>\n",
       "      <td>256</td>\n",
       "      <td>1972</td>\n",
       "      <td>63</td>\n",
       "      <td>48</td>\n",
       "      <td>190</td>\n",
       "      <td>22</td>\n",
       "      <td>False</td>\n",
       "      <td>0</td>\n",
       "      <td>0</td>\n",
       "      <td>132</td>\n",
       "    </tr>\n",
       "    <tr>\n",
       "      <th>3</th>\n",
       "      <td>1446765723</td>\n",
       "      <td>3085</td>\n",
       "      <td>4</td>\n",
       "      <td>1924</td>\n",
       "      <td>51</td>\n",
       "      <td>3</td>\n",
       "      <td>40</td>\n",
       "      <td>22</td>\n",
       "      <td>False</td>\n",
       "      <td>0</td>\n",
       "      <td>0</td>\n",
       "      <td>191</td>\n",
       "    </tr>\n",
       "    <tr>\n",
       "      <th>4</th>\n",
       "      <td>1446796385</td>\n",
       "      <td>1887</td>\n",
       "      <td>2047</td>\n",
       "      <td>0</td>\n",
       "      <td>0</td>\n",
       "      <td>63</td>\n",
       "      <td>58</td>\n",
       "      <td>22</td>\n",
       "      <td>True</td>\n",
       "      <td>0</td>\n",
       "      <td>0</td>\n",
       "      <td>156</td>\n",
       "    </tr>\n",
       "  </tbody>\n",
       "</table>\n",
       "</div>"
      ],
      "text/plain": [
       "          start_time  duration  tower_status_radiant  tower_status_dire  \\\n",
       "match_id                                                                  \n",
       "0         1446750112      2375                  1982                  4   \n",
       "1         1446753078      2582                     0               1846   \n",
       "2         1446764586      2716                   256               1972   \n",
       "3         1446765723      3085                     4               1924   \n",
       "4         1446796385      1887                  2047                  0   \n",
       "\n",
       "          barracks_status_dire  barracks_status_radiant  first_blood_time  \\\n",
       "match_id                                                                    \n",
       "0                            3                       63                 1   \n",
       "1                           63                        0               221   \n",
       "2                           63                       48               190   \n",
       "3                           51                        3                40   \n",
       "4                            0                       63                58   \n",
       "\n",
       "          game_mode radiant_win  negative_votes  positive_votes  cluster  \n",
       "match_id                                                                  \n",
       "0                22        True               0               1      155  \n",
       "1                22       False               0               2      154  \n",
       "2                22       False               0               0      132  \n",
       "3                22       False               0               0      191  \n",
       "4                22        True               0               0      156  "
      ]
     },
     "execution_count": 2,
     "metadata": {},
     "output_type": "execute_result"
    }
   ],
   "source": [
    "# take a look at the match data\n",
    "matches.head()"
   ]
  },
  {
   "cell_type": "markdown",
   "metadata": {
    "_cell_guid": "b7420cb5-c9c8-cfb7-c516-87f36d021083"
   },
   "source": [
    "Of these variables only game_mode, cluster, and perhaps start_time are possible to determine before the match starts. None of them seem like useful variables if the goal is to use players past performance to predict the match outcome.\n",
    "\n",
    "Radiant_win is the target variable we are trying to predict. It is pretty easy to see that a time based split is probably best here for validation. By holding out future we reduce the likelyhood of accidently introducing leakage. "
   ]
  },
  {
   "cell_type": "code",
   "execution_count": 3,
   "metadata": {
    "_cell_guid": "4a880163-9716-5a6b-4310-df3a0b7b16c4"
   },
   "outputs": [
    {
     "data": {
      "text/plain": [
       "['gold',\n",
       " 'gold_spent',\n",
       " 'gold_per_min',\n",
       " 'xp_per_min',\n",
       " 'kills',\n",
       " 'deaths',\n",
       " 'assists',\n",
       " 'denies',\n",
       " 'last_hits',\n",
       " 'stuns',\n",
       " 'hero_damage',\n",
       " 'hero_healing',\n",
       " 'tower_damage']"
      ]
     },
     "execution_count": 3,
     "metadata": {},
     "output_type": "execute_result"
    }
   ],
   "source": [
    "# since this is a simple example I will use very basic features which are probably not very good.\n",
    "feature_columns = players.iloc[:3,4:17].columns.tolist()\n",
    "feature_columns"
   ]
  },
  {
   "cell_type": "code",
   "execution_count": 4,
   "metadata": {
    "_cell_guid": "2789f1e7-57b5-1b16-c3b6-7642f39ad555"
   },
   "outputs": [],
   "source": [
    "player_groups = players.groupby('account_id')\n",
    "\n",
    "# These are just a the mean of the above values, one for each account\n",
    "feature_components = player_groups[feature_columns].mean()"
   ]
  },
  {
   "cell_type": "code",
   "execution_count": 5,
   "metadata": {
    "_cell_guid": "9aed78a2-c92b-1911-cfcb-e5af0b0a0dfe"
   },
   "outputs": [
    {
     "data": {
      "text/html": [
       "<div>\n",
       "<table border=\"1\" class=\"dataframe\">\n",
       "  <thead>\n",
       "    <tr style=\"text-align: right;\">\n",
       "      <th></th>\n",
       "      <th>gold</th>\n",
       "      <th>gold_spent</th>\n",
       "      <th>gold_per_min</th>\n",
       "      <th>xp_per_min</th>\n",
       "      <th>kills</th>\n",
       "      <th>deaths</th>\n",
       "      <th>assists</th>\n",
       "      <th>denies</th>\n",
       "      <th>last_hits</th>\n",
       "      <th>hero_damage</th>\n",
       "      <th>hero_healing</th>\n",
       "      <th>tower_damage</th>\n",
       "    </tr>\n",
       "    <tr>\n",
       "      <th>account_id</th>\n",
       "      <th></th>\n",
       "      <th></th>\n",
       "      <th></th>\n",
       "      <th></th>\n",
       "      <th></th>\n",
       "      <th></th>\n",
       "      <th></th>\n",
       "      <th></th>\n",
       "      <th></th>\n",
       "      <th></th>\n",
       "      <th></th>\n",
       "      <th></th>\n",
       "    </tr>\n",
       "  </thead>\n",
       "  <tbody>\n",
       "    <tr>\n",
       "      <th>0</th>\n",
       "      <td>1800.798735</td>\n",
       "      <td>13955.154883</td>\n",
       "      <td>407.672621</td>\n",
       "      <td>447.691653</td>\n",
       "      <td>7.436487</td>\n",
       "      <td>8.029696</td>\n",
       "      <td>11.644845</td>\n",
       "      <td>4.403066</td>\n",
       "      <td>124.977535</td>\n",
       "      <td>12227.711667</td>\n",
       "      <td>427.988298</td>\n",
       "      <td>1232.203666</td>\n",
       "    </tr>\n",
       "    <tr>\n",
       "      <th>1</th>\n",
       "      <td>8642.500000</td>\n",
       "      <td>21200.000000</td>\n",
       "      <td>627.500000</td>\n",
       "      <td>667.500000</td>\n",
       "      <td>20.500000</td>\n",
       "      <td>1.500000</td>\n",
       "      <td>13.500000</td>\n",
       "      <td>8.000000</td>\n",
       "      <td>242.000000</td>\n",
       "      <td>31304.500000</td>\n",
       "      <td>0.000000</td>\n",
       "      <td>2256.000000</td>\n",
       "    </tr>\n",
       "    <tr>\n",
       "      <th>2</th>\n",
       "      <td>1756.333333</td>\n",
       "      <td>20576.666667</td>\n",
       "      <td>537.666667</td>\n",
       "      <td>520.000000</td>\n",
       "      <td>10.000000</td>\n",
       "      <td>7.333333</td>\n",
       "      <td>16.666667</td>\n",
       "      <td>2.333333</td>\n",
       "      <td>277.000000</td>\n",
       "      <td>14060.666667</td>\n",
       "      <td>1066.666667</td>\n",
       "      <td>3525.666667</td>\n",
       "    </tr>\n",
       "    <tr>\n",
       "      <th>3</th>\n",
       "      <td>3307.000000</td>\n",
       "      <td>23825.000000</td>\n",
       "      <td>613.000000</td>\n",
       "      <td>762.000000</td>\n",
       "      <td>20.000000</td>\n",
       "      <td>3.000000</td>\n",
       "      <td>17.000000</td>\n",
       "      <td>13.000000</td>\n",
       "      <td>245.000000</td>\n",
       "      <td>33740.000000</td>\n",
       "      <td>243.000000</td>\n",
       "      <td>1833.000000</td>\n",
       "    </tr>\n",
       "    <tr>\n",
       "      <th>4</th>\n",
       "      <td>763.500000</td>\n",
       "      <td>12597.500000</td>\n",
       "      <td>381.000000</td>\n",
       "      <td>480.000000</td>\n",
       "      <td>5.500000</td>\n",
       "      <td>8.500000</td>\n",
       "      <td>10.000000</td>\n",
       "      <td>6.000000</td>\n",
       "      <td>146.500000</td>\n",
       "      <td>11819.000000</td>\n",
       "      <td>0.000000</td>\n",
       "      <td>324.500000</td>\n",
       "    </tr>\n",
       "  </tbody>\n",
       "</table>\n",
       "</div>"
      ],
      "text/plain": [
       "                   gold    gold_spent  gold_per_min  xp_per_min      kills  \\\n",
       "account_id                                                                   \n",
       "0           1800.798735  13955.154883    407.672621  447.691653   7.436487   \n",
       "1           8642.500000  21200.000000    627.500000  667.500000  20.500000   \n",
       "2           1756.333333  20576.666667    537.666667  520.000000  10.000000   \n",
       "3           3307.000000  23825.000000    613.000000  762.000000  20.000000   \n",
       "4            763.500000  12597.500000    381.000000  480.000000   5.500000   \n",
       "\n",
       "              deaths    assists     denies   last_hits   hero_damage  \\\n",
       "account_id                                                             \n",
       "0           8.029696  11.644845   4.403066  124.977535  12227.711667   \n",
       "1           1.500000  13.500000   8.000000  242.000000  31304.500000   \n",
       "2           7.333333  16.666667   2.333333  277.000000  14060.666667   \n",
       "3           3.000000  17.000000  13.000000  245.000000  33740.000000   \n",
       "4           8.500000  10.000000   6.000000  146.500000  11819.000000   \n",
       "\n",
       "            hero_healing  tower_damage  \n",
       "account_id                              \n",
       "0             427.988298   1232.203666  \n",
       "1               0.000000   2256.000000  \n",
       "2            1066.666667   3525.666667  \n",
       "3             243.000000   1833.000000  \n",
       "4               0.000000    324.500000  "
      ]
     },
     "execution_count": 5,
     "metadata": {},
     "output_type": "execute_result"
    }
   ],
   "source": [
    "# the account_id 0 is included even though it represents more then one account \n",
    "# its average stats for players who hide their account ids \n",
    "feature_components.head()"
   ]
  },
  {
   "cell_type": "code",
   "execution_count": 6,
   "metadata": {
    "_cell_guid": "3c6f6c13-1a2c-b903-88c2-8d8f4825063a"
   },
   "outputs": [],
   "source": [
    "# now to construct match_level features from the components\n",
    "# account_id is needed to join with feature_components\n",
    "train_ids = players[['match_id','account_id']]\n",
    "test_ids = test_players[['match_id','account_id']]"
   ]
  },
  {
   "cell_type": "code",
   "execution_count": 7,
   "metadata": {
    "_cell_guid": "4e2afd58-1be7-db6d-f9d6-694565793e9d"
   },
   "outputs": [],
   "source": [
    "# add player component data to full match and player data\n",
    "# note if a player is not in the train set but appears in the test set they will have \n",
    "# nan values inserted\n",
    "\n",
    "train_feat_comp = pd.merge(train_ids, feature_components,\n",
    "                           how='left', left_on='account_id' ,\n",
    "                           right_index=True)\n",
    "\n",
    "test_feat_comp = pd.merge(test_ids, feature_components, \n",
    "                          how='left', left_on='account_id',\n",
    "                          right_index=True)"
   ]
  },
  {
   "cell_type": "code",
   "execution_count": 8,
   "metadata": {
    "_cell_guid": "3e9134df-aa43-5ec1-d91f-e184dfc63564"
   },
   "outputs": [],
   "source": [
    "# this is no longer needed now that the join is done \n",
    "train_feat_comp.drop(['account_id'], axis=1, inplace=True)\n",
    "test_feat_comp.drop(['account_id'], axis=1, inplace=True)\n",
    "\n",
    "# this basically flattens an entire match, removes the redundent match_ids, and then \n",
    "# drops the unneaded multi-index\n",
    "# is there a better way to do this?\n",
    "def unstack_simplify(df):\n",
    "    return df.unstack().iloc[10:].reset_index(drop=True)"
   ]
  },
  {
   "cell_type": "code",
   "execution_count": 9,
   "metadata": {
    "_cell_guid": "8b4620d5-c811-d814-ce86-e55f3b8921ae"
   },
   "outputs": [],
   "source": [
    "# group by match then combine data for all players in a match into one row\n",
    "test_feat_group = test_feat_comp.groupby('match_id')\n",
    "test_feats = test_feat_group.apply(unstack_simplify)"
   ]
  },
  {
   "cell_type": "code",
   "execution_count": 10,
   "metadata": {
    "_cell_guid": "6bfdfd42-06aa-94b1-e510-6f61ce65e705"
   },
   "outputs": [],
   "source": [
    "train_feat_group = train_feat_comp.groupby('match_id')\n",
    "train_feats = train_feat_group.apply(unstack_simplify)"
   ]
  },
  {
   "cell_type": "code",
   "execution_count": 11,
   "metadata": {
    "_cell_guid": "de194c90-9163-c3c1-fed5-24f7a44e6f7c"
   },
   "outputs": [
    {
     "data": {
      "text/html": [
       "<div>\n",
       "<table border=\"1\" class=\"dataframe\">\n",
       "  <thead>\n",
       "    <tr style=\"text-align: right;\">\n",
       "      <th></th>\n",
       "      <th>0</th>\n",
       "      <th>1</th>\n",
       "      <th>2</th>\n",
       "      <th>3</th>\n",
       "      <th>4</th>\n",
       "      <th>5</th>\n",
       "      <th>6</th>\n",
       "      <th>7</th>\n",
       "      <th>8</th>\n",
       "      <th>9</th>\n",
       "      <th>...</th>\n",
       "      <th>110</th>\n",
       "      <th>111</th>\n",
       "      <th>112</th>\n",
       "      <th>113</th>\n",
       "      <th>114</th>\n",
       "      <th>115</th>\n",
       "      <th>116</th>\n",
       "      <th>117</th>\n",
       "      <th>118</th>\n",
       "      <th>119</th>\n",
       "    </tr>\n",
       "    <tr>\n",
       "      <th>match_id</th>\n",
       "      <th></th>\n",
       "      <th></th>\n",
       "      <th></th>\n",
       "      <th></th>\n",
       "      <th></th>\n",
       "      <th></th>\n",
       "      <th></th>\n",
       "      <th></th>\n",
       "      <th></th>\n",
       "      <th></th>\n",
       "      <th></th>\n",
       "      <th></th>\n",
       "      <th></th>\n",
       "      <th></th>\n",
       "      <th></th>\n",
       "      <th></th>\n",
       "      <th></th>\n",
       "      <th></th>\n",
       "      <th></th>\n",
       "      <th></th>\n",
       "      <th></th>\n",
       "    </tr>\n",
       "  </thead>\n",
       "  <tbody>\n",
       "    <tr>\n",
       "      <th>50000</th>\n",
       "      <td>623.500000</td>\n",
       "      <td>NaN</td>\n",
       "      <td>NaN</td>\n",
       "      <td>6420.000000</td>\n",
       "      <td>1588.250000</td>\n",
       "      <td>1879.833333</td>\n",
       "      <td>774.000000</td>\n",
       "      <td>3360.000000</td>\n",
       "      <td>812.000000</td>\n",
       "      <td>2866.916667</td>\n",
       "      <td>...</td>\n",
       "      <td>2814.500000</td>\n",
       "      <td>NaN</td>\n",
       "      <td>NaN</td>\n",
       "      <td>286.000000</td>\n",
       "      <td>177.500000</td>\n",
       "      <td>956.333333</td>\n",
       "      <td>57.500000</td>\n",
       "      <td>313.000000</td>\n",
       "      <td>960.000000</td>\n",
       "      <td>1356.916667</td>\n",
       "    </tr>\n",
       "    <tr>\n",
       "      <th>50001</th>\n",
       "      <td>2250.222222</td>\n",
       "      <td>1800.798735</td>\n",
       "      <td>1800.798735</td>\n",
       "      <td>NaN</td>\n",
       "      <td>2358.000000</td>\n",
       "      <td>NaN</td>\n",
       "      <td>296.000000</td>\n",
       "      <td>1800.798735</td>\n",
       "      <td>NaN</td>\n",
       "      <td>1800.798735</td>\n",
       "      <td>...</td>\n",
       "      <td>725.111111</td>\n",
       "      <td>1232.203666</td>\n",
       "      <td>1232.203666</td>\n",
       "      <td>NaN</td>\n",
       "      <td>3282.000000</td>\n",
       "      <td>NaN</td>\n",
       "      <td>1679.500000</td>\n",
       "      <td>1232.203666</td>\n",
       "      <td>NaN</td>\n",
       "      <td>1232.203666</td>\n",
       "    </tr>\n",
       "    <tr>\n",
       "      <th>50002</th>\n",
       "      <td>1133.000000</td>\n",
       "      <td>NaN</td>\n",
       "      <td>2587.272727</td>\n",
       "      <td>2935.000000</td>\n",
       "      <td>1800.798735</td>\n",
       "      <td>1800.798735</td>\n",
       "      <td>1800.798735</td>\n",
       "      <td>1800.798735</td>\n",
       "      <td>NaN</td>\n",
       "      <td>1800.798735</td>\n",
       "      <td>...</td>\n",
       "      <td>291.000000</td>\n",
       "      <td>NaN</td>\n",
       "      <td>816.090909</td>\n",
       "      <td>1807.000000</td>\n",
       "      <td>1232.203666</td>\n",
       "      <td>1232.203666</td>\n",
       "      <td>1232.203666</td>\n",
       "      <td>1232.203666</td>\n",
       "      <td>NaN</td>\n",
       "      <td>1232.203666</td>\n",
       "    </tr>\n",
       "    <tr>\n",
       "      <th>50003</th>\n",
       "      <td>NaN</td>\n",
       "      <td>1800.798735</td>\n",
       "      <td>1800.798735</td>\n",
       "      <td>2002.140351</td>\n",
       "      <td>77.000000</td>\n",
       "      <td>1800.798735</td>\n",
       "      <td>1800.798735</td>\n",
       "      <td>NaN</td>\n",
       "      <td>NaN</td>\n",
       "      <td>1800.798735</td>\n",
       "      <td>...</td>\n",
       "      <td>NaN</td>\n",
       "      <td>1232.203666</td>\n",
       "      <td>1232.203666</td>\n",
       "      <td>1605.280702</td>\n",
       "      <td>219.000000</td>\n",
       "      <td>1232.203666</td>\n",
       "      <td>1232.203666</td>\n",
       "      <td>NaN</td>\n",
       "      <td>NaN</td>\n",
       "      <td>1232.203666</td>\n",
       "    </tr>\n",
       "    <tr>\n",
       "      <th>50004</th>\n",
       "      <td>1800.798735</td>\n",
       "      <td>2944.500000</td>\n",
       "      <td>1800.798735</td>\n",
       "      <td>1800.798735</td>\n",
       "      <td>1800.798735</td>\n",
       "      <td>521.000000</td>\n",
       "      <td>1800.798735</td>\n",
       "      <td>1858.500000</td>\n",
       "      <td>1821.736842</td>\n",
       "      <td>1800.798735</td>\n",
       "      <td>...</td>\n",
       "      <td>1232.203666</td>\n",
       "      <td>251.000000</td>\n",
       "      <td>1232.203666</td>\n",
       "      <td>1232.203666</td>\n",
       "      <td>1232.203666</td>\n",
       "      <td>345.000000</td>\n",
       "      <td>1232.203666</td>\n",
       "      <td>2256.000000</td>\n",
       "      <td>2468.947368</td>\n",
       "      <td>1232.203666</td>\n",
       "    </tr>\n",
       "  </tbody>\n",
       "</table>\n",
       "<p>5 rows × 120 columns</p>\n",
       "</div>"
      ],
      "text/plain": [
       "                  0            1            2            3            4    \\\n",
       "match_id                                                                    \n",
       "50000      623.500000          NaN          NaN  6420.000000  1588.250000   \n",
       "50001     2250.222222  1800.798735  1800.798735          NaN  2358.000000   \n",
       "50002     1133.000000          NaN  2587.272727  2935.000000  1800.798735   \n",
       "50003             NaN  1800.798735  1800.798735  2002.140351    77.000000   \n",
       "50004     1800.798735  2944.500000  1800.798735  1800.798735  1800.798735   \n",
       "\n",
       "                  5            6            7            8            9    \\\n",
       "match_id                                                                    \n",
       "50000     1879.833333   774.000000  3360.000000   812.000000  2866.916667   \n",
       "50001             NaN   296.000000  1800.798735          NaN  1800.798735   \n",
       "50002     1800.798735  1800.798735  1800.798735          NaN  1800.798735   \n",
       "50003     1800.798735  1800.798735          NaN          NaN  1800.798735   \n",
       "50004      521.000000  1800.798735  1858.500000  1821.736842  1800.798735   \n",
       "\n",
       "             ...               110          111          112          113  \\\n",
       "match_id     ...                                                            \n",
       "50000        ...       2814.500000          NaN          NaN   286.000000   \n",
       "50001        ...        725.111111  1232.203666  1232.203666          NaN   \n",
       "50002        ...        291.000000          NaN   816.090909  1807.000000   \n",
       "50003        ...               NaN  1232.203666  1232.203666  1605.280702   \n",
       "50004        ...       1232.203666   251.000000  1232.203666  1232.203666   \n",
       "\n",
       "                  114          115          116          117          118  \\\n",
       "match_id                                                                    \n",
       "50000      177.500000   956.333333    57.500000   313.000000   960.000000   \n",
       "50001     3282.000000          NaN  1679.500000  1232.203666          NaN   \n",
       "50002     1232.203666  1232.203666  1232.203666  1232.203666          NaN   \n",
       "50003      219.000000  1232.203666  1232.203666          NaN          NaN   \n",
       "50004     1232.203666   345.000000  1232.203666  2256.000000  2468.947368   \n",
       "\n",
       "                  119  \n",
       "match_id               \n",
       "50000     1356.916667  \n",
       "50001     1232.203666  \n",
       "50002     1232.203666  \n",
       "50003     1232.203666  \n",
       "50004     1232.203666  \n",
       "\n",
       "[5 rows x 120 columns]"
      ]
     },
     "execution_count": 11,
     "metadata": {},
     "output_type": "execute_result"
    }
   ],
   "source": [
    "test_feats.head()"
   ]
  },
  {
   "cell_type": "code",
   "execution_count": 12,
   "metadata": {
    "_cell_guid": "81ec5b9e-8905-d221-c017-2a103f056246"
   },
   "outputs": [
    {
     "name": "stdout",
     "output_type": "stream",
     "text": [
      "0     623.500000\n",
      "1            NaN\n",
      "2            NaN\n",
      "3    6420.000000\n",
      "4    1588.250000\n",
      "5    1879.833333\n",
      "6     774.000000\n",
      "7    3360.000000\n",
      "8     812.000000\n",
      "9    2866.916667\n",
      "Name: 50000, dtype: float64 \n",
      "\n",
      "10    21967.500000\n",
      "11             NaN\n",
      "12             NaN\n",
      "13    15990.000000\n",
      "14     9633.750000\n",
      "15    11432.916667\n",
      "16     9182.500000\n",
      "17    20710.000000\n",
      "18    22040.000000\n",
      "19    14770.833333\n",
      "Name: 50000, dtype: float64 \n",
      "\n",
      "20    653.000000\n",
      "21           NaN\n",
      "22           NaN\n",
      "23    507.000000\n",
      "24    302.500000\n",
      "25    358.166667\n",
      "26    271.000000\n",
      "27    511.000000\n",
      "28    455.000000\n",
      "29    459.500000\n",
      "Name: 50000, dtype: float64 \n",
      "\n",
      "30    637.000000\n",
      "31           NaN\n",
      "32           NaN\n",
      "33    505.000000\n",
      "34    332.250000\n",
      "35    407.000000\n",
      "36    294.500000\n",
      "37    549.000000\n",
      "38    536.000000\n",
      "39    478.083333\n",
      "Name: 50000, dtype: float64 \n",
      "\n"
     ]
    }
   ],
   "source": [
    "for i in range(0,40, 10):\n",
    "    print(test_feats.iloc[0,i:i+10],'\\n')"
   ]
  },
  {
   "cell_type": "markdown",
   "metadata": {
    "_cell_guid": "7bbe04ca-d5ad-ed8f-3bd3-d384789d3669"
   },
   "source": [
    "Unstack is interleaving the data of different players the above is to visually check that the nans are showing up in a regular pattern. To make sure I didn't make a mistake.\n",
    "\n",
    "Below you can see that most matches in the test set have  players not in the train set. and \n",
    "this is not accounting for hidding account_ids"
   ]
  },
  {
   "cell_type": "code",
   "execution_count": 13,
   "metadata": {
    "_cell_guid": "5247f785-e7fb-2b4f-c91a-36d51a97ec17"
   },
   "outputs": [
    {
     "data": {
      "text/html": [
       "<div>\n",
       "<table border=\"1\" class=\"dataframe\">\n",
       "  <thead>\n",
       "    <tr style=\"text-align: right;\">\n",
       "      <th></th>\n",
       "      <th>num_missing_players</th>\n",
       "      <th>count</th>\n",
       "    </tr>\n",
       "  </thead>\n",
       "  <tbody>\n",
       "    <tr>\n",
       "      <th>0</th>\n",
       "      <td>2</td>\n",
       "      <td>21243</td>\n",
       "    </tr>\n",
       "    <tr>\n",
       "      <th>1</th>\n",
       "      <td>3</td>\n",
       "      <td>20322</td>\n",
       "    </tr>\n",
       "    <tr>\n",
       "      <th>2</th>\n",
       "      <td>1</td>\n",
       "      <td>16113</td>\n",
       "    </tr>\n",
       "    <tr>\n",
       "      <th>3</th>\n",
       "      <td>4</td>\n",
       "      <td>16046</td>\n",
       "    </tr>\n",
       "    <tr>\n",
       "      <th>4</th>\n",
       "      <td>5</td>\n",
       "      <td>10239</td>\n",
       "    </tr>\n",
       "    <tr>\n",
       "      <th>5</th>\n",
       "      <td>0</td>\n",
       "      <td>6897</td>\n",
       "    </tr>\n",
       "    <tr>\n",
       "      <th>6</th>\n",
       "      <td>6</td>\n",
       "      <td>5480</td>\n",
       "    </tr>\n",
       "    <tr>\n",
       "      <th>7</th>\n",
       "      <td>7</td>\n",
       "      <td>2422</td>\n",
       "    </tr>\n",
       "    <tr>\n",
       "      <th>8</th>\n",
       "      <td>8</td>\n",
       "      <td>896</td>\n",
       "    </tr>\n",
       "    <tr>\n",
       "      <th>9</th>\n",
       "      <td>9</td>\n",
       "      <td>272</td>\n",
       "    </tr>\n",
       "    <tr>\n",
       "      <th>10</th>\n",
       "      <td>10</td>\n",
       "      <td>70</td>\n",
       "    </tr>\n",
       "  </tbody>\n",
       "</table>\n",
       "</div>"
      ],
      "text/plain": [
       "    num_missing_players  count\n",
       "0                     2  21243\n",
       "1                     3  20322\n",
       "2                     1  16113\n",
       "3                     4  16046\n",
       "4                     5  10239\n",
       "5                     0   6897\n",
       "6                     6   5480\n",
       "7                     7   2422\n",
       "8                     8    896\n",
       "9                     9    272\n",
       "10                   10     70"
      ]
     },
     "execution_count": 13,
     "metadata": {},
     "output_type": "execute_result"
    }
   ],
   "source": [
    "row_nans = test_feats.isnull().sum(axis=1)\n",
    "nan_counts = row_nans.value_counts()\n",
    "nan_counts = nan_counts.reset_index()\n",
    "\n",
    "nan_counts.columns = ['num_missing_players','count']\n",
    "nan_counts.loc[:, 'num_missing_players'] =(nan_counts.loc[:,'num_missing_players']/12).astype(int)\n",
    "nan_counts\n",
    "\n",
    "# counting how many players are missing from match because they didn't exist in \n",
    "# the train set"
   ]
  },
  {
   "cell_type": "code",
   "execution_count": 14,
   "metadata": {
    "_cell_guid": "ff8c7653-ac58-86af-dc4e-08682e876200"
   },
   "outputs": [],
   "source": [
    "rf = ensemble.RandomForestClassifier(n_estimators=150, n_jobs=-1)\n",
    "rf.fit(train_feats,train_labels) \n",
    "\n",
    "\n",
    "# this is a bad way to deal with missing values \n",
    "test_feats.replace(np.nan, 0, inplace=True)\n",
    "\n",
    "test_probs = rf.predict_proba(test_feats)\n",
    "test_preds = rf.predict(test_feats)"
   ]
  },
  {
   "cell_type": "code",
   "execution_count": 15,
   "metadata": {
    "_cell_guid": "63c027d8-9ebf-7aa6-e7c5-daf669504440"
   },
   "outputs": [
    {
     "data": {
      "text/plain": [
       "0.77003894887615809"
      ]
     },
     "execution_count": 15,
     "metadata": {},
     "output_type": "execute_result"
    }
   ],
   "source": [
    "metrics.log_loss(test_labels.values.ravel(), test_probs[:,1])"
   ]
  },
  {
   "cell_type": "code",
   "execution_count": 16,
   "metadata": {
    "_cell_guid": "17b0c326-c39f-8cee-79d2-ad25d6231b52"
   },
   "outputs": [
    {
     "data": {
      "text/plain": [
       "0.50435543650989145"
      ]
     },
     "execution_count": 16,
     "metadata": {},
     "output_type": "execute_result"
    }
   ],
   "source": [
    "metrics.roc_auc_score(test_labels.values, test_probs[:,1])"
   ]
  },
  {
   "cell_type": "code",
   "execution_count": 17,
   "metadata": {
    "_cell_guid": "d91d5315-43bf-abed-f27a-0b4183ccb708"
   },
   "outputs": [
    {
     "name": "stdout",
     "output_type": "stream",
     "text": [
      "             precision    recall  f1-score   support\n",
      "\n",
      "          0       0.49      0.45      0.46     48139\n",
      "          1       0.52      0.56      0.54     51861\n",
      "\n",
      "avg / total       0.50      0.51      0.50    100000\n",
      "\n"
     ]
    }
   ],
   "source": [
    "print(metrics.classification_report(test_labels.values, test_preds))"
   ]
  },
  {
   "cell_type": "markdown",
   "metadata": {
    "_cell_guid": "894afe9b-35bb-c7bd-a759-c3eb72502243"
   },
   "source": [
    "Having mostly just competed on kaggle, now i have to think about what the metrics mean;) I would say the performance is no where near as good as I would like but with the features I used that is to be expected. \n",
    "\n",
    "I am more concerned about whether this is the right approach to predicting match outcomes(or i have a bug:)) from player histories. It also seems likely given the number of missing players in the test set that a larger dataset would be useful. \n",
    "\n",
    "There are other tasks besides predicting match outcomes like predicting win rate, which should be reasonably easy to set up."
   ]
  }
 ],
 "metadata": {
  "_change_revision": 308,
  "_is_fork": false,
  "kernelspec": {
   "display_name": "Python 3",
   "language": "python",
   "name": "python3"
  },
  "language_info": {
   "codemirror_mode": {
    "name": "ipython",
    "version": 3
   },
   "file_extension": ".py",
   "mimetype": "text/x-python",
   "name": "python",
   "nbconvert_exporter": "python",
   "pygments_lexer": "ipython3",
   "version": "3.5.2"
  }
 },
 "nbformat": 4,
 "nbformat_minor": 0
}
